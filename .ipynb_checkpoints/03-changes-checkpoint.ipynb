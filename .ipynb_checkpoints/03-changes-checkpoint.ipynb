{
 "cells": [
  {
   "cell_type": "markdown",
   "metadata": {},
   "source": [
    "---\n",
    "title: Tracking Changes\n",
    "date: 2023-11-30 \n",
    "authors:\n",
    "  - name: Sébastien Boisgérault\n",
    "    email: Sebastien.Boisgerault@minesparis.psl.eu\n",
    "    url: https://github.com/boisgera\n",
    "    affiliations:\n",
    "      - institution: Mines Paris - PSL University\n",
    "        department: Institut des Transformation Numériques (ITN)\n",
    "github: boisgera\n",
    "license: CC-BY-4.0\n",
    "open_access: true\n",
    "---"
   ]
  },
  {
   "cell_type": "markdown",
   "metadata": {},
   "source": [
    "In order to understand how `.tldr` files are structured, we can add a new graphical objects, change some if their properties, etc. and each time we modify the document, analyze the corresponding evolution of the file.\n",
    "\n",
    "In this notebook, we develop some tooling to help us track such changes."
   ]
  },
  {
   "cell_type": "markdown",
   "metadata": {},
   "source": [
    "## Text comparison"
   ]
  },
  {
   "cell_type": "markdown",
   "metadata": {},
   "source": [
    "We define two similar versions of the \"zen of Python\":"
   ]
  },
  {
   "cell_type": "code",
   "execution_count": 2,
   "metadata": {},
   "outputs": [],
   "source": [
    "zen_1 = \"\"\"The Zen of Python, by Tim Peters\n",
    "\n",
    "Beautiful is better than ugly.\n",
    "Explicit is better than implicit.\n",
    "Simple is better than complex.\n",
    "Complex is better than complicated.\n",
    "Flat is better than nested.\n",
    "Sparse is better than dense.\n",
    "Readability counts.\n",
    "Special cases aren't special enough to break the rules.\n",
    "Errors should never pass silently.\n",
    "In the face of ambiguity, refuse the temptation to guess.\n",
    "There should be one obvious way to do it.\n",
    "Although that way may not be obvious at first.\n",
    "Now is better than never.\n",
    "Although never is often better than right now.\n",
    "If the implementation is hard to explain, it's a bad idea.\n",
    "If the implementation is easy to explain, it is a good idea.\n",
    "\"\"\""
   ]
  },
  {
   "cell_type": "code",
   "execution_count": 3,
   "metadata": {},
   "outputs": [],
   "source": [
    "zen_2 = \"\"\"\\\n",
    "The Zen of Python, by Tim Peters\n",
    "\n",
    "Beautiful is better than ugly.\n",
    "Explicit is better than implicit.\n",
    "Simple is better than complex.\n",
    "Complex is better than complicated.\n",
    "Flat is better than nested.\n",
    "Sparse is better than dense.\n",
    "Readability counts.\n",
    "Special cases aren't special enough to break the rules.\n",
    "Although practicality beats purity.\n",
    "Errors should never pass silently.\n",
    "Unless explicitly silenced.\n",
    "In the face of ambiguity, refuse the temptation to guess.\n",
    "There should be one-- and preferably only one --obvious way to do it.\n",
    "Although that way may not be obvious at first unless you're Dutch.\n",
    "Now is better than never.\n",
    "Although never is often better than *right* now.\n",
    "If the implementation is hard to explain, it's a bad idea.\n",
    "If the implementation is easy to explain, it may be a good idea.\n",
    "Namespaces are one honking great idea -- let's do more of those!\n",
    "\"\"\""
   ]
  },
  {
   "cell_type": "markdown",
   "metadata": {},
   "source": [
    "```{exercise}\n",
    " 1. Transform `zen_1` and `zen_2` into list of lines.\n",
    " 2. Use the [`difflib`](https://docs.python.org/3/library/difflib.html) module of the Python standard library to [`compare`](https://docs.python.org/3/library/difflib.html#difflib.Differ.compare) the two sequences.\n",
    " 3. Make a text out of the output of compare and print it.\n",
    " 4. Interpret the result and list the differences between both versions of the zen of Python.\n",
    "```"
   ]
  },
  {
   "cell_type": "code",
   "execution_count": 6,
   "metadata": {},
   "outputs": [],
   "source": [
    "zen_ligne_1 = zen_1.splitlines()\n",
    "zen_ligne_2 = zen_2.splitlines()"
   ]
  },
  {
   "cell_type": "code",
   "execution_count": 11,
   "metadata": {},
   "outputs": [
    {
     "name": "stdout",
     "output_type": "stream",
     "text": [
      "  The Zen of Python, by Tim Peters\n",
      "  \n",
      "  Beautiful is better than ugly.\n",
      "  Explicit is better than implicit.\n",
      "  Simple is better than complex.\n",
      "  Complex is better than complicated.\n",
      "  Flat is better than nested.\n",
      "  Sparse is better than dense.\n",
      "  Readability counts.\n",
      "  Special cases aren't special enough to break the rules.\n",
      "+ Although practicality beats purity.\n",
      "  Errors should never pass silently.\n",
      "+ Unless explicitly silenced.\n",
      "  In the face of ambiguity, refuse the temptation to guess.\n",
      "- There should be one obvious way to do it.\n",
      "+ There should be one-- and preferably only one --obvious way to do it.\n",
      "- Although that way may not be obvious at first.\n",
      "+ Although that way may not be obvious at first unless you're Dutch.\n",
      "?                                              ++++++++++++++++++++\n",
      "\n",
      "  Now is better than never.\n",
      "- Although never is often better than right now.\n",
      "+ Although never is often better than *right* now.\n",
      "?                                     +     +\n",
      "\n",
      "  If the implementation is hard to explain, it's a bad idea.\n",
      "- If the implementation is easy to explain, it is a good idea.\n",
      "?                                              ^^\n",
      "\n",
      "+ If the implementation is easy to explain, it may be a good idea.\n",
      "?                                              ^^^^^^\n",
      "\n",
      "+ Namespaces are one honking great idea -- let's do more of those!\n"
     ]
    }
   ],
   "source": [
    "import difflib\n",
    "diff = difflib.Differ().compare(zen_1.splitlines(), zen_2.splitlines())\n",
    "print('\\n'.join(diff))"
   ]
  },
  {
   "cell_type": "code",
   "execution_count": null,
   "metadata": {},
   "outputs": [],
   "source": [
    "#On obtient un texte combinant les 2 en ajoutant un + devant la ligne lorsque celui-ci est dans zen_2 mais pas zen_1 et en ajoutant un - devant une\n",
    "#ligne lorsqu'elle vient de zen_1 mais est différente dans zen_2"
   ]
  },
  {
   "cell_type": "markdown",
   "metadata": {},
   "source": [
    "We can make our job easier if we use HTML instead of plain text to visualise the differences between the two texts.\n",
    "\n",
    "\n",
    "```{exercise}\n",
    "  1. Use the [HtmlDiff](https://docs.python.org/3/library/difflib.html#difflib.HtmlDiff) class of difflib to produce a `diff.html` file that represents this difference in a HTML document.\n",
    "  2. Use the [webbrowser](https://docs.python.org/3/library/webbrowser.html) module of the standard library to open it!\n",
    "  3. Define a `display_diff_text` function that takes two arguments `text_1` and `text_2` and automates steps 1. and 2.\n",
    "```"
   ]
  },
  {
   "cell_type": "code",
   "execution_count": 12,
   "metadata": {},
   "outputs": [],
   "source": [
    "diff_2 = difflib.HtmlDiff()\n",
    "contenu = diff_2.make_file(zen_1.splitlines(), zen_2.splitlines(), \"Zen_1\", \"Zen_2\")\n",
    "with open(\"diff.html\", \"w\") as html_file:\n",
    "    html_file.write(contenu)"
   ]
  },
  {
   "cell_type": "code",
   "execution_count": 21,
   "metadata": {},
   "outputs": [
    {
     "data": {
      "text/plain": [
       "True"
      ]
     },
     "execution_count": 21,
     "metadata": {},
     "output_type": "execute_result"
    }
   ],
   "source": [
    "import webbrowser\n",
    "webbrowser.open(\"diff.html\",\"r\")"
   ]
  },
  {
   "cell_type": "code",
   "execution_count": 27,
   "metadata": {},
   "outputs": [],
   "source": [
    "def display_diff_text(text_1, text_2):\n",
    "    diff_2 = difflib.HtmlDiff()\n",
    "    contenu = diff_2.make_file(text_1.splitlines(), text_2.splitlines(), \"Text 1\", \"Text 2\")\n",
    "    with open(\"diff.html\", \"w\") as html_file:\n",
    "        html_file.write(contenu)\n",
    "    webbrowser.open(\"diff.html\")\n",
    "\n",
    "display_diff_text(zen_1,zen_2)"
   ]
  },
  {
   "cell_type": "code",
   "execution_count": null,
   "metadata": {},
   "outputs": [],
   "source": [
    "# La fonction crée bien le diff.html sur mon PC mais ne l'ouvre pas dans un nouvel onglet, je pense qu'il doit y avoir un problème de permissions"
   ]
  },
  {
   "cell_type": "markdown",
   "metadata": {},
   "source": [
    "## Comparison of JSON documents"
   ]
  },
  {
   "cell_type": "markdown",
   "metadata": {},
   "source": [
    "````{exercise} Comparison of dictionnaries\n",
    "\n",
    " 1. Create a `display_diff` function that takes two Python objects, converts them to strings then leverages `display_diff_text` to display the difference in a browser.\n",
    "\n",
    " 2. Consider the 3 dictionaries defined by\n",
    "    ```python\n",
    "    d1 = {k:k+1 for k in range(100)}\n",
    "    d2 = d1.copy(); d2[50] = 50\n",
    "    d3 = {k:k+1 for k in range(99, -1, -1)}\n",
    "    ```\n",
    "    `d1` and `d2` have a slight difference and `d1` and `d2` are equal.\n",
    "    Does your `display_diff` function make easy to spot where the difference is in the first case when it compares `d1` and `d2`?\n",
    "    Does it make easy to see that `d1` and `d3` are equal?\n",
    "\n",
    "  3. Investigate the [`pprint`](https://docs.python.org/3/library/pprint.html) module standard library ; use it to improve the behavior of `display_text_diff` in the two cases considered in the previous question.\n",
    "\n",
    "````\n",
    " "
   ]
  },
  {
   "cell_type": "code",
   "execution_count": 26,
   "metadata": {},
   "outputs": [],
   "source": [
    "def display_diff(un,deux):\n",
    "    UN=str(un)\n",
    "    DEUX=str(deux)\n",
    "    display_diff_text(UN,DEUX)"
   ]
  },
  {
   "cell_type": "code",
   "execution_count": 37,
   "metadata": {},
   "outputs": [],
   "source": [
    "d1 = {k:k+1 for k in range(100)}\n",
    "d2 = d1.copy()\n",
    "d2[50] = 50\n",
    "d3 = {k:k+1 for k in range(99, -1, -1)}"
   ]
  },
  {
   "cell_type": "code",
   "execution_count": null,
   "metadata": {},
   "outputs": [],
   "source": [
    "# La fonction display_diff ne permet pas ici de voir la différence ou la similitude entre les dictionnaires.\n",
    "# En effet, le fichier qu'elle renvoie est présenté comme si les dictionnaires étaient entièrement similaires dans tous les cas.\n",
    "# Cela est du au fait que les dictionnaires ne sont pas des objets ordonnés"
   ]
  },
  {
   "cell_type": "code",
   "execution_count": 54,
   "metadata": {},
   "outputs": [],
   "source": [
    "import pprint\n",
    "def display_diff(un,deux):\n",
    "    UN=pprint.pformat(un)\n",
    "    DEUX=pprint.pformat(deux)\n",
    "    display_diff_text(UN,DEUX)\n",
    "\n",
    "\n",
    "# On réécrit display_diff mais en utilisant cette fois pprint"
   ]
  },
  {
   "cell_type": "markdown",
   "metadata": {},
   "source": [
    "```{exercise} tldraw documents comparator\n",
    "Implement a function `tldraw_diff` that takes as argument two filenames that refer to tldraw documents and display their differences in the browser.\n",
    "```"
   ]
  },
  {
   "cell_type": "code",
   "execution_count": 63,
   "metadata": {},
   "outputs": [],
   "source": [
    "import json\n",
    "def tldraw_diff(a,b):\n",
    "    un = json.load(a)\n",
    "    deux = json.load(b)\n",
    "    display_diff(un,deux)"
   ]
  }
 ],
 "metadata": {
  "kernelspec": {
   "display_name": "Python 3 (ipykernel)",
   "language": "python",
   "name": "python3"
  },
  "language_info": {
   "codemirror_mode": {
    "name": "ipython",
    "version": 3
   },
   "file_extension": ".py",
   "mimetype": "text/x-python",
   "name": "python",
   "nbconvert_exporter": "python",
   "pygments_lexer": "ipython3",
   "version": "3.12.0"
  }
 },
 "nbformat": 4,
 "nbformat_minor": 4
}
