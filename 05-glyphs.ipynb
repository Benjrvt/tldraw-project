{
 "cells": [
  {
   "cell_type": "markdown",
   "id": "78125428-27ae-4308-adbe-2f57738f53d6",
   "metadata": {},
   "source": [
    "---\n",
    "title: Glyphs\n",
    "date: 2023-12-301\n",
    "authors:\n",
    "  - name: Sébastien Boisgérault\n",
    "    email: Sebastien.Boisgerault@minesparis.psl.eu\n",
    "    url: https://github.com/boisgera\n",
    "    affiliations:\n",
    "      - institution: Mines Paris - PSL University\n",
    "        department: Institut des Transformation Numériques (ITN)\n",
    "github: boisgera\n",
    "license: CC-BY-4.0\n",
    "open_access: true\n",
    "---"
   ]
  },
  {
   "cell_type": "markdown",
   "id": "1527878a-9a89-444c-97d8-d8c377e04921",
   "metadata": {},
   "source": [
    "## Glyph Representation\n",
    "\n",
    "![](images/z.tldraw.png)\n",
    "\n",
    "```{exercise} Glyph Skeleton\n",
    "\n",
    " 1. Create a new tldraw document with a unique continuous short curve created with the draw tool (called in the sequel a *glyph*).\n",
    "\n",
    " 2. Load the document in Python and extract from it the unique record of type `draw`.\n",
    "\n",
    " 3. Build from this record the arrays `x` and `y` of the points coordinates that describe the curve.\n",
    "\n",
    "    ⚠️ Make sure that you get the initial values `x[0]` and `y[0]` right!\n",
    "\n",
    " 5. Plot the curve using an aspect ratio of 1 ; make sure that your conventions for the y axis match those of tldraw.\n",
    "\n",
    "```"
   ]
  },
  {
   "cell_type": "code",
   "execution_count": 10,
   "id": "c7525a7d-e81a-4bd0-9dbe-b7a3f4d4e0b2",
   "metadata": {},
   "outputs": [
    {
     "data": {
      "text/plain": [
       "{'x': 602,\n",
       " 'y': 349,\n",
       " 'rotation': 0,\n",
       " 'isLocked': False,\n",
       " 'opacity': 1,\n",
       " 'meta': {},\n",
       " 'id': 'shape:FheEfdZSvLQcm02p2ApT_',\n",
       " 'type': 'draw',\n",
       " 'props': {'segments': [{'type': 'free',\n",
       "    'points': [{'x': 0, 'y': 0, 'z': 0.5},\n",
       "     {'x': 1, 'y': 0, 'z': 0.5},\n",
       "     {'x': 2, 'y': 0, 'z': 0.5},\n",
       "     {'x': 3, 'y': 0, 'z': 0.5},\n",
       "     {'x': 7, 'y': -1, 'z': 0.5},\n",
       "     {'x': 11, 'y': -1, 'z': 0.5},\n",
       "     {'x': 15, 'y': -2, 'z': 0.5},\n",
       "     {'x': 22, 'y': -3, 'z': 0.5},\n",
       "     {'x': 30, 'y': -4, 'z': 0.5},\n",
       "     {'x': 42, 'y': -5, 'z': 0.5},\n",
       "     {'x': 57, 'y': -7, 'z': 0.5},\n",
       "     {'x': 72, 'y': -9, 'z': 0.5},\n",
       "     {'x': 96, 'y': -12, 'z': 0.5},\n",
       "     {'x': 127, 'y': -16, 'z': 0.5},\n",
       "     {'x': 156, 'y': -19, 'z': 0.5},\n",
       "     {'x': 191, 'y': -21, 'z': 0.5},\n",
       "     {'x': 225, 'y': -21, 'z': 0.5},\n",
       "     {'x': 259, 'y': -22, 'z': 0.5},\n",
       "     {'x': 299, 'y': -22, 'z': 0.5},\n",
       "     {'x': 335, 'y': -22, 'z': 0.5},\n",
       "     {'x': 369, 'y': -19, 'z': 0.5},\n",
       "     {'x': 405, 'y': -19, 'z': 0.5},\n",
       "     {'x': 433, 'y': -18, 'z': 0.5},\n",
       "     {'x': 457, 'y': -15, 'z': 0.5},\n",
       "     {'x': 478, 'y': -14, 'z': 0.5},\n",
       "     {'x': 497, 'y': -12, 'z': 0.5},\n",
       "     {'x': 506, 'y': -11, 'z': 0.5},\n",
       "     {'x': 512, 'y': -11, 'z': 0.5},\n",
       "     {'x': 514, 'y': -10, 'z': 0.5},\n",
       "     {'x': 515, 'y': -10, 'z': 0.5},\n",
       "     {'x': 516, 'y': -10, 'z': 0.5},\n",
       "     {'x': 517, 'y': -10, 'z': 0.5},\n",
       "     {'x': 518, 'y': -10, 'z': 0.5}]}],\n",
       "  'color': 'black',\n",
       "  'fill': 'none',\n",
       "  'dash': 'draw',\n",
       "  'size': 'm',\n",
       "  'isComplete': True,\n",
       "  'isClosed': False,\n",
       "  'isPen': False},\n",
       " 'parentId': 'page:page',\n",
       " 'index': 'a1',\n",
       " 'typeName': 'shape'}"
      ]
     },
     "execution_count": 10,
     "metadata": {},
     "output_type": "execute_result"
    }
   ],
   "source": [
    "import json\n",
    "file = open(\"Glyph.tldr\", mode = \"tr\")\n",
    "contenu = file.read()\n",
    "inter = json.dumps(contenu)\n",
    "hello = json.loads(json.loads(inter))\n",
    "records = hello[\"records\"]\n",
    "l=0\n",
    "for i in records :\n",
    "    if 'type' in i.keys():\n",
    "        if i['type']=='draw':\n",
    "            l=i\n",
    "l"
   ]
  },
  {
   "cell_type": "code",
   "execution_count": 33,
   "id": "93bcc4b3-c817-45ad-a511-c715456472f7",
   "metadata": {},
   "outputs": [
    {
     "data": {
      "image/png": "[encoded data removed]",
      "text/plain": [
       "<Figure size 640x480 with 1 Axes>"
      ]
     },
     "metadata": {},
     "output_type": "display_data"
    }
   ],
   "source": [
    "import numpy as np\n",
    "import matplotlib.pyplot as plt\n",
    "X=[]\n",
    "Y=[]\n",
    "for k in l['props']['segments'][0]['points']:\n",
    "    X.append(k['x'])\n",
    "    Y.append(k['y'])\n",
    "x=np.array(X)\n",
    "y=np.array(Y)\n",
    "\n",
    "fig, ax = plt.subplots()\n",
    "plt.plot(x,-y)\n",
    "plt.show()"
   ]
  },
  {
   "cell_type": "markdown",
   "id": "deb7f01b-47c7-4e6b-9400-9088f55785f3",
   "metadata": {},
   "source": [
    "![](images/z-skeleton-only.jpg)"
   ]
  },
  {
   "cell_type": "markdown",
   "id": "0c35645a-f0f6-49a4-9200-3d0adc973a24",
   "metadata": {},
   "source": [
    "The curve that you have plotted only represents a \"skeleton\" of the glyph but not its thickness. \n",
    "The thickness itself is computed from an evaluation of the speed at which the pen travels (the faster the pen is, the smaller the curve is ; this is how the pen pressure is simulated).\n",
    "\n",
    "```{exercise} Glyph Outline\n",
    " 1. Make a new continuous curve that you draw during 6 seconds (the more precise the better ! I would advise you to use a stopwatch) ; try to move constantly when you draw the curve at first (for the initial 3 seconds) then faster (for the final 3 seconds). Then, extract the corresponding coordinates `x` and `y` in Python and make an informed guess on how these values are sampled from the \"true\" time-dependent curve.\n",
    "\n",
    " 2. The `perfect-freehand` python package ports to Python the Javascript library used by tldraw to draw the curves contour. It is [available on pypi](https://pypi.org/project/perfect-freehand/) and [documented](https://bigbluebutton.github.io/perfect-freehand-python/). Use it to represent on the same matplotlib display the skeleton points and a corresponding contour.\n",
    "```\n",
    "\n",
    "![](images/z-outline.jpg)\n"
   ]
  },
  {
   "cell_type": "code",
   "execution_count": null,
   "id": "17fe7a1b-be9a-4c33-a49f-0be5909ead99",
   "metadata": {},
   "outputs": [],
   "source": []
  },
  {
   "cell_type": "markdown",
   "id": "bd180371-d890-4bff-b43c-a0bcc3345a19",
   "metadata": {},
   "source": [
    "## Glyph Classification\n",
    "\n",
    "\n",
    "![](images/glyphs-reference.png)\n",
    "\n"
   ]
  },
  {
   "cell_type": "markdown",
   "id": "09f09688-57f7-425d-a77a-17cfedfcaf66",
   "metadata": {},
   "source": [
    "\n",
    "```{exercise} Glyph Collection\n",
    " 1. Create a tldraw document that contains many small variations of the same glyph as depicted above. Pick a glyph of your chosing!\n",
    "    Save it as `docs/glyphs.tldr`.\n",
    " \n",
    "    ⚠️ If you have a ✍️ pen tablet, use it; otherwise you're probably better off using your 👆 finger on a tablet / mobile phone than a 🖱️ mouse to get a collection of similar glyphs.\n",
    " 2. Draw all these glyph variants in matplotib ; translate them beforehand so that they have the same center of mass and are (mostly but not entirely) superimposed.\n",
    "```\n",
    "\n",
    "![](images/glyphs-superimposed.jpg)"
   ]
  },
  {
   "cell_type": "markdown",
   "id": "1380c147-72fa-4013-af5e-e75105cee7f1",
   "metadata": {},
   "source": [
    "Each glyph may have a different number of samples, so its hard to compare them directly. Additionally they may be a bit rough and could probably use a smoother and denser representation (with many more points).\n",
    "\n",
    "```{exercise} Interpolation and Resampling\n",
    " 1. Associate to any glyph represented by its coordinate a path $t \\in [0, 1] \\mapsto \\mathbb{R}^2$ (as a Python function), using some \"smooth\" interpolation.\n",
    " \n",
    "    **Hint:** use [`scipy.interpolate.interp1d`](https://docs.scipy.org/doc/scipy/reference/generated/scipy.interpolate.interp1d.html).\n",
    " \n",
    " 2. Sample it uniformly to get exactly 1000 points.\n",
    "\n",
    "```\n",
    "\n"
   ]
  },
  {
   "cell_type": "markdown",
   "id": "f7c648de-600b-41ab-9356-06f1fd1d7a63",
   "metadata": {},
   "source": [
    "```{exercise} Mean Glyph\n",
    " 1. Use the set of resampled coordinates to compute the (resampled) \"mean glyph\" that averages the features of all glyphs. \n",
    " 2. Draw this glyph !\n",
    "```\n",
    "\n",
    "![](images/glyphs-mean.jpg)"
   ]
  },
  {
   "cell_type": "markdown",
   "id": "11150ebe-6abd-4ce4-9bf8-c43b245690f4",
   "metadata": {},
   "source": [
    "```{exercise} Glyph Similarity\n",
    "\n",
    " 1. Come up with a scalar measure of the \"dissimilarity\" between two resampled glyphs (2 arrays of 1000 points), which is equal to 0 when both glyphs are identical and gets larger as the glyphs become more different.\n",
    "\n",
    " 2. Compute the dissimilarity between each glyph and the mean glyph and compute the maximal dissimilarity for our collection of small variants.\n",
    "```"
   ]
  },
  {
   "cell_type": "markdown",
   "id": "4efc179f-76d8-49f9-a691-7d8d275924de",
   "metadata": {},
   "source": [
    "\n",
    "```{exercise} Glyph Classification\n",
    "\n",
    " 1. Create a document with several glyphs similar to the reference one and several ones wich are dissimilar. Save it as `docs/glyphs-misc.tldr\".\n",
    "\n",
    " 2. Generate automatically a new tldraw document `docs/glyphs-classified.tldr` with the same set of glyphs, but such that the glyphs are green when they are similar to the reference one and red if they are dissimilar.\n",
    "```\n",
    "\n",
    "\n",
    "![](images/glyphs-misc.png)\n",
    "\n",
    "![](images/glyphs-misc-checked.png)"
   ]
  }
 ],
 "metadata": {
  "kernelspec": {
   "display_name": "Python 3 (ipykernel)",
   "language": "python",
   "name": "python3"
  },
  "language_info": {
   "codemirror_mode": {
    "name": "ipython",
    "version": 3
   },
   "file_extension": ".py",
   "mimetype": "text/x-python",
   "name": "python",
   "nbconvert_exporter": "python",
   "pygments_lexer": "ipython3",
   "version": "3.12.0"
  }
 },
 "nbformat": 4,
 "nbformat_minor": 5
}
